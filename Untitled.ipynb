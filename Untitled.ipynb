{
 "cells": [
  {
   "cell_type": "code",
   "execution_count": 2,
   "metadata": {},
   "outputs": [],
   "source": [
    "# Import BeautifulSoup library\n",
    "from bs4 import BeautifulSoup\n",
    "\n",
    "# Import URL parser library\n",
    "import urllib2\n",
    "\n",
    "# Import Pandas\n",
    "import pandas as pd\n",
    "\n",
    "def motie_headlines(motie_photo_news_url):\n",
    "\n",
    "    ''' This function takes the url of the MOTIE photo news page and returns a\n",
    "    Pandas dataframe containing the headlines and urls of the stories on the\n",
    "    page.'''\n",
    "\n",
    "    # Save HTML of MOTIE URL\n",
    "    motie_photo_news = urllib2.urlopen(motie_photo_news_url)\n",
    "\n",
    "    # Create empty list of headlines_code\n",
    "    list_of_headlines = []\n",
    "\n",
    "    # Save soup of MOTIE photo news page\n",
    "    soup = BeautifulSoup(motie_photo_news, 'html.parser')\n",
    "\n",
    "    # Save headlines of MOTIE photo news page\n",
    "    headlines_code = soup.find_all('span', attrs={'class':'tit'})\n",
    "\n",
    "    # Save each headline from MOTIE soup as item in list_of_headlines\n",
    "    for headline in headlines_code:\n",
    "\n",
    "        list_of_headlines.append(str(headline.get_text()))\n",
    "\n",
    "    # Get links\n",
    "    links = soup.find_all('a', attrs={'title':'Detail View'})\n",
    "\n",
    "    # Create empty list of empty list_of_links\n",
    "    list_of_links = []\n",
    "\n",
    "    # Save each link in list_of_links\n",
    "    for link in links:\n",
    "\n",
    "        list_of_links.append(str('http://english.motie.go.kr/en/pc/photonews/bbs/'+link['href']))\n",
    "\n",
    "    # Create dictionary of headlines and links\n",
    "    dictionary = {'Story title':list_of_headlines, 'URL':list_of_links}\n",
    "\n",
    "    # Create empty dataframe\n",
    "    headlines_urls = pd.DataFrame(data = dictionary)\n",
    "\n",
    "    return headlines_urls\n",
    "\n",
    "def motie_photo_news_story(story_url):\n",
    "\n",
    "    ''' This function takes a URL of a page from the MOTIE photo news section\n",
    "and returns a dataframe containing key information about that story.'''\n",
    "\n",
    "    # Save HTML of MOTIE story\n",
    "    MOTIE_photo_story = urllib2.urlopen(story_url)\n",
    "\n",
    "    # Save soup of MOTIE story\n",
    "    soup = BeautifulSoup(MOTIE_photo_story, 'html.parser')\n",
    "\n",
    "    # Save story headline\n",
    "    story_headline = str(soup.find('h3').get_text())\n",
    "\n",
    "    # Save story date\n",
    "    story_date = str(soup.find('span', attrs={'class':'date'}).get_text())\n",
    "\n",
    "    # Save story author\n",
    "    story_author = 'Republic of Korea Ministry of Trade, Industry and Energy'\n",
    "\n",
    "    # Create dictionary for story\n",
    "    story_dictionary = {'Headline':story_headline, 'Date':story_date, 'Author':story_author, 'URL':story_url}\n",
    "\n",
    "    # Create dataframe for story\n",
    "    story_dataframe = pd.DataFrame(data = story_dictionary, index = [0])\n",
    "\n",
    "    return story_dataframe\n",
    "\n",
    "# Define MOTIE photo news URL\n",
    "motie_photo_news_url = 'http://english.motie.go.kr/en/pc/photonews/bbs/bbsList.do?bbs_cd_n=1'\n",
    "\n",
    "# Run MOTIE headlines function on URL + save as new dataframe\n",
    "motie_photo_news = motie_headlines(motie_photo_news_url)\n",
    "\n",
    "# Create list of URLs to find more info on\n",
    "story_URLs = motie_photo_news['URL'].tolist()"
   ]
  },
  {
   "cell_type": "code",
   "execution_count": 6,
   "metadata": {},
   "outputs": [],
   "source": [
    "for url in story_URLs:\n",
    "    story_dataframe = motie_photo_news_story(url)\n",
    "    stories = pd.concat([stories, story_dataframe])"
   ]
  },
  {
   "cell_type": "code",
   "execution_count": 7,
   "metadata": {
    "scrolled": true
   },
   "outputs": [],
   "source": [
    "stories = stories.reset_index().drop(labels = 'index', axis = 1)"
   ]
  },
  {
   "cell_type": "code",
   "execution_count": 10,
   "metadata": {},
   "outputs": [],
   "source": [
    "test = pd.merge(stories, motie_photo_news, left_on='URL', right_on='URL')"
   ]
  },
  {
   "cell_type": "code",
   "execution_count": null,
   "metadata": {},
   "outputs": [],
   "source": []
  }
 ],
 "metadata": {
  "kernelspec": {
   "display_name": "Python 2",
   "language": "python",
   "name": "python2"
  },
  "language_info": {
   "codemirror_mode": {
    "name": "ipython",
    "version": 2
   },
   "file_extension": ".py",
   "mimetype": "text/x-python",
   "name": "python",
   "nbconvert_exporter": "python",
   "pygments_lexer": "ipython2",
   "version": "2.7.14"
  }
 },
 "nbformat": 4,
 "nbformat_minor": 2
}
