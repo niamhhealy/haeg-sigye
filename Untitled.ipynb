{
 "cells": [
  {
   "cell_type": "code",
   "execution_count": 1,
   "metadata": {},
   "outputs": [],
   "source": [
    "# Import BeautifulSoup library\n",
    "from bs4 import BeautifulSoup\n",
    "\n",
    "# Import URL parser library\n",
    "import urllib2\n",
    "\n",
    "# Import Pandas\n",
    "import pandas as pd"
   ]
  },
  {
   "cell_type": "code",
   "execution_count": 2,
   "metadata": {},
   "outputs": [],
   "source": [
    "story_url = 'http://english.motie.go.kr/en/pc/photonews/bbs/bbsList.do?bbs_seq_n=671&bbs_cd_n=1&currentPage=1&search_key_n=&search_val_v=&cate_n='"
   ]
  },
  {
   "cell_type": "code",
   "execution_count": 3,
   "metadata": {},
   "outputs": [],
   "source": [
    "# Save HTML of MOTIE story\n",
    "MOTIE_photo_story = urllib2.urlopen(story_url)"
   ]
  },
  {
   "cell_type": "code",
   "execution_count": 4,
   "metadata": {},
   "outputs": [],
   "source": [
    "# Save soup of MOTIE story\n",
    "soup = BeautifulSoup(MOTIE_photo_story, 'html.parser')\n",
    "\n",
    "# Save story headline\n",
    "story_headline = str(soup.find('h3').get_text())\n",
    "\n",
    "# Save story date\n",
    "story_date = str(soup.find('span', attrs={'class':'date'}).get_text())\n",
    "\n",
    "# Save story author\n",
    "story_author = 'Republic of Korea Ministry of Trade, Industry and Energy'"
   ]
  },
  {
   "cell_type": "code",
   "execution_count": 8,
   "metadata": {},
   "outputs": [],
   "source": [
    "# Create dictionary for story\n",
    "story_dictionary = {'Title':story_headline, 'Date':story_date, 'Author':story_author}"
   ]
  },
  {
   "cell_type": "code",
   "execution_count": 9,
   "metadata": {
    "scrolled": false
   },
   "outputs": [
    {
     "data": {
      "text/plain": [
       "{'Author': 'Republic of Korea Ministry of Trade, Industry and Energy',\n",
       " 'Date': '2018-02-28',\n",
       " 'Title': 'Minister Paik meets with Indian counterpart in New Delhi 2018-02-28'}"
      ]
     },
     "execution_count": 9,
     "metadata": {},
     "output_type": "execute_result"
    }
   ],
   "source": [
    "story_dictionary"
   ]
  },
  {
   "cell_type": "code",
   "execution_count": 11,
   "metadata": {},
   "outputs": [],
   "source": [
    "# Create dataframe for story\n",
    "story_dataframe = pd.DataFrame(data = story_dictionary, index = [0])"
   ]
  },
  {
   "cell_type": "code",
   "execution_count": null,
   "metadata": {},
   "outputs": [],
   "source": []
  },
  {
   "cell_type": "code",
   "execution_count": null,
   "metadata": {},
   "outputs": [],
   "source": [
    "    # Create dataframe for story\n",
    "    story_dataframe = pd.DataFrame(data = story_dictionary)\n",
    "    return story_dataframe\n",
    "\n",
    "print motie_photo_news_story('http://english.motie.go.kr/en/pc/photonews/bbs/bbsList.do?bbs_seq_n=671&bbs_cd_n=1&currentPage=1&search_key_n=&search_val_v=&cate_n=')"
   ]
  }
 ],
 "metadata": {
  "kernelspec": {
   "display_name": "Python 2",
   "language": "python",
   "name": "python2"
  },
  "language_info": {
   "codemirror_mode": {
    "name": "ipython",
    "version": 2
   },
   "file_extension": ".py",
   "mimetype": "text/x-python",
   "name": "python",
   "nbconvert_exporter": "python",
   "pygments_lexer": "ipython2",
   "version": "2.7.14"
  }
 },
 "nbformat": 4,
 "nbformat_minor": 2
}
