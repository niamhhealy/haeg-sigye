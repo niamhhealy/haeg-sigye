{
 "cells": [
  {
   "cell_type": "code",
   "execution_count": 1,
   "metadata": {},
   "outputs": [],
   "source": [
    "# Import BeautifulSoup library\n",
    "from bs4 import BeautifulSoup\n",
    "\n",
    "# Import URL parser library\n",
    "import urllib2\n",
    "\n",
    "# Import Pandas\n",
    "import pandas as pd"
   ]
  },
  {
   "cell_type": "code",
   "execution_count": 1,
   "metadata": {
    "scrolled": true
   },
   "outputs": [],
   "source": [
    "def motie_photo_news_story(story_url):\n",
    "\n",
    "    ''' This function takes a URL of a page from the MOTIE photo news section\n",
    "and returns a dataframe containing key information about that story.'''\n",
    "\n",
    "    # Save HTML of MOTIE story\n",
    "    MOTIE_photo_story = urllib2.urlopen(story_url)\n",
    "\n",
    "    # Save soup of MOTIE story\n",
    "    soup = BeautifulSoup(MOTIE_photo_story, 'html.parser')\n",
    "\n",
    "    # Save story headline\n",
    "    story_headline = str(soup.find('h3').get_text())\n",
    "\n",
    "    # Save story date\n",
    "    story_date = str(soup.find('span', attrs={'class':'date'}).get_text())\n",
    "\n",
    "    # Save story author\n",
    "    story_author = 'Republic of Korea Ministry of Trade, Industry and Energy'\n",
    "\n",
    "    # Create dictionary for story\n",
    "    story_dictionary = {'Headline':story_headline, 'Date':story_date, 'Author':story_author, 'URL':story_url}\n",
    "\n",
    "    # Create dataframe for story\n",
    "    story_dataframe = pd.DataFrame(data = story_dictionary, index = [0])\n",
    "\n",
    "    return story_dataframe"
   ]
  },
  {
   "cell_type": "code",
   "execution_count": null,
   "metadata": {},
   "outputs": [],
   "source": []
  },
  {
   "cell_type": "code",
   "execution_count": null,
   "metadata": {},
   "outputs": [],
   "source": [
    "motie_photo_news_story(story_url)"
   ]
  }
 ],
 "metadata": {
  "kernelspec": {
   "display_name": "Python 2",
   "language": "python",
   "name": "python2"
  },
  "language_info": {
   "codemirror_mode": {
    "name": "ipython",
    "version": 2
   },
   "file_extension": ".py",
   "mimetype": "text/x-python",
   "name": "python",
   "nbconvert_exporter": "python",
   "pygments_lexer": "ipython2",
   "version": "2.7.14"
  }
 },
 "nbformat": 4,
 "nbformat_minor": 2
}
