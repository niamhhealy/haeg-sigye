{
 "cells": [
  {
   "cell_type": "code",
   "execution_count": 25,
   "metadata": {},
   "outputs": [],
   "source": [
    "# Import BeautifulSoup library\n",
    "from bs4 import BeautifulSoup\n",
    "\n",
    "# Import URL parser library\n",
    "import urllib2\n",
    "\n",
    "# Import Pandas\n",
    "import pandas as pd\n",
    "\n",
    "def motie_headlines(motie_photo_news_url):\n",
    "\n",
    "    ''' This function takes the url of the MOTIE photo news page and returns a\n",
    "    Pandas dataframe containing the headlines and urls of the stories on the\n",
    "    page.'''\n",
    "\n",
    "    # Save HTML of MOTIE URL\n",
    "    motie_photo_news = urllib2.urlopen(motie_photo_news_url)\n",
    "\n",
    "    # Create empty list of headlines_code\n",
    "    list_of_headlines = []\n",
    "\n",
    "    # Save soup of MOTIE photo news page\n",
    "    soup = BeautifulSoup(motie_photo_news, 'html.parser')\n",
    "\n",
    "    # Save headlines of MOTIE photo news page\n",
    "    headlines_code = soup.find_all('span', attrs={'class':'tit'})\n",
    "\n",
    "    # Save each headline from MOTIE soup as item in list_of_headlines\n",
    "    for headline in headlines_code:\n",
    "\n",
    "        list_of_headlines.append(str(headline.get_text()))\n",
    "\n",
    "    # Get links\n",
    "    links = soup.find_all('a', attrs={'title':'Detail View'})\n",
    "\n",
    "    # Create empty list of empty list_of_links\n",
    "    list_of_links = []\n",
    "\n",
    "    # Save each link in list_of_links\n",
    "    for link in links:\n",
    "\n",
    "        list_of_links.append(str('http://english.motie.go.kr/en/pc/photonews/bbs/'+link['href']))\n",
    "\n",
    "    # Create dictionary of headlines and links\n",
    "    dictionary = {'Story title':list_of_headlines, 'URL':list_of_links}\n",
    "\n",
    "    # Create empty dataframe\n",
    "    headlines_urls = pd.DataFrame(data = dictionary)\n",
    "\n",
    "    return headlines_urls\n",
    "\n",
    "def motie_photo_news_story(story_url):\n",
    "\n",
    "    ''' This function takes a URL of a page from the MOTIE photo news section\n",
    "and returns a dataframe containing key information about that story.'''\n",
    "\n",
    "    # Save HTML of MOTIE story\n",
    "    MOTIE_photo_story = urllib2.urlopen(story_url)\n",
    "\n",
    "    # Save soup of MOTIE story\n",
    "    soup = BeautifulSoup(MOTIE_photo_story, 'html.parser')\n",
    "\n",
    "    # Save story headline\n",
    "    story_headline = str(soup.find('h3').get_text())\n",
    "\n",
    "    # Save story date\n",
    "    story_date = str(soup.find('span', attrs={'class':'date'}).get_text())\n",
    "\n",
    "    # Save story author\n",
    "    story_author = 'Republic of Korea Ministry of Trade, Industry and Energy'\n",
    "\n",
    "    # Save language\n",
    "    story_language = 'English'\n",
    "\n",
    "    # Create dictionary for story\n",
    "    story_dictionary = {'Headline':story_headline, 'Date':story_date, 'Language': story_language, 'Author':story_author, 'URL':story_url}\n",
    "\n",
    "    # Create dataframe for story\n",
    "    story_dataframe = pd.DataFrame(data = story_dictionary, index = [0])\n",
    "\n",
    "    return story_dataframe\n",
    "\n",
    "# Define MOTIE photo news URL\n",
    "motie_photo_news_url = 'http://english.motie.go.kr/en/pc/photonews/bbs/bbsList.do?bbs_cd_n=1'\n",
    "\n",
    "# Run MOTIE headlines function on URL + save as new dataframe\n",
    "motie_photo_news = motie_headlines(motie_photo_news_url)\n",
    "\n",
    "# Create list of URLs to find more info on\n",
    "story_URLs = motie_photo_news['URL'].tolist()\n",
    "\n",
    "# Create empty dataframe to contain further information\n",
    "stories = pd.DataFrame(data = None)\n",
    "\n",
    "# Create stories dataframe containing more information for each headline page\n",
    "for url in story_URLs:\n",
    "    story_dataframe = motie_photo_news_story(url)\n",
    "    stories = pd.concat([stories, story_dataframe])\n",
    "\n",
    "# Tidy up stories dataframe\n",
    "stories = stories.reset_index().drop(labels = 'index', axis = 1)\n",
    "\n",
    "# Merge headlines dataframe with stories dataframe\n",
    "motie_photo_news = pd.merge(stories, motie_photo_news, left_on='URL', right_on='URL')"
   ]
  },
  {
   "cell_type": "code",
   "execution_count": 17,
   "metadata": {},
   "outputs": [],
   "source": [
    "dates = motie_photo_news['Date'].tolist()"
   ]
  },
  {
   "cell_type": "code",
   "execution_count": 18,
   "metadata": {},
   "outputs": [],
   "source": [
    "for date in dates:\n",
    "    \n",
    "    d = datetime.strptime(date, '%Y-%m-%d')\n",
    "    date = d.strftime('%Y-%m-%d')"
   ]
  },
  {
   "cell_type": "code",
   "execution_count": 23,
   "metadata": {
    "scrolled": true
   },
   "outputs": [
    {
     "data": {
      "text/plain": [
       "'2018-02-28'"
      ]
     },
     "execution_count": 23,
     "metadata": {},
     "output_type": "execute_result"
    }
   ],
   "source": [
    "motie_photo_news['Date'].min()"
   ]
  },
  {
   "cell_type": "code",
   "execution_count": null,
   "metadata": {},
   "outputs": [],
   "source": []
  },
  {
   "cell_type": "code",
   "execution_count": null,
   "metadata": {},
   "outputs": [],
   "source": [
    "# Save HTML of MOTIE story\n",
    "MOTIE_photo_story = urllib2.urlopen(story_url)\n",
    "\n",
    "    # Save soup of MOTIE story\n",
    "    soup = BeautifulSoup(MOTIE_photo_story, 'html.parser')\n",
    "\n",
    "    # Save story headline\n",
    "    story_headline = str(soup.find('h3').get_text())\n",
    "\n",
    "    # Save story date\n",
    "    story_date = str(soup.find('span', attrs={'class':'date'}).get_text())"
   ]
  },
  {
   "cell_type": "code",
   "execution_count": 34,
   "metadata": {},
   "outputs": [
    {
     "data": {
      "text/html": [
       "<div>\n",
       "<style scoped>\n",
       "    .dataframe tbody tr th:only-of-type {\n",
       "        vertical-align: middle;\n",
       "    }\n",
       "\n",
       "    .dataframe tbody tr th {\n",
       "        vertical-align: top;\n",
       "    }\n",
       "\n",
       "    .dataframe thead th {\n",
       "        text-align: right;\n",
       "    }\n",
       "</style>\n",
       "<table border=\"1\" class=\"dataframe\">\n",
       "  <thead>\n",
       "    <tr style=\"text-align: right;\">\n",
       "      <th></th>\n",
       "      <th>Author</th>\n",
       "      <th>Date</th>\n",
       "      <th>Headline</th>\n",
       "      <th>Language</th>\n",
       "      <th>URL</th>\n",
       "    </tr>\n",
       "  </thead>\n",
       "  <tbody>\n",
       "    <tr>\n",
       "      <th>0</th>\n",
       "      <td>Republic of Korea Ministry of Trade, Industry ...</td>\n",
       "      <td>2018-02-28</td>\n",
       "      <td>Minister Paik meets Abu Dhabi Executive Affair...</td>\n",
       "      <td>English</td>\n",
       "      <td>http://english.motie.go.kr/en/pc/photonews/bbs...</td>\n",
       "    </tr>\n",
       "  </tbody>\n",
       "</table>\n",
       "</div>"
      ],
      "text/plain": [
       "                                              Author        Date  \\\n",
       "0  Republic of Korea Ministry of Trade, Industry ...  2018-02-28   \n",
       "\n",
       "                                            Headline Language  \\\n",
       "0  Minister Paik meets Abu Dhabi Executive Affair...  English   \n",
       "\n",
       "                                                 URL  \n",
       "0  http://english.motie.go.kr/en/pc/photonews/bbs...  "
      ]
     },
     "execution_count": 34,
     "metadata": {},
     "output_type": "execute_result"
    }
   ],
   "source": [
    "motie_photo_news_story('http://english.motie.go.kr/en/pc/photonews/bbs/bbsList.do?bbs_seq_n=670&bbs_cd_n=1&currentPage=1&search_key_n=&search_val_v=&cate_n=')"
   ]
  },
  {
   "cell_type": "code",
   "execution_count": 14,
   "metadata": {},
   "outputs": [
    {
     "data": {
      "text/plain": [
       "'2007-07-18'"
      ]
     },
     "execution_count": 14,
     "metadata": {},
     "output_type": "execute_result"
    }
   ],
   "source": [
    "day_string"
   ]
  },
  {
   "cell_type": "code",
   "execution_count": null,
   "metadata": {},
   "outputs": [],
   "source": []
  }
 ],
 "metadata": {
  "kernelspec": {
   "display_name": "Python 2",
   "language": "python",
   "name": "python2"
  },
  "language_info": {
   "codemirror_mode": {
    "name": "ipython",
    "version": 2
   },
   "file_extension": ".py",
   "mimetype": "text/x-python",
   "name": "python",
   "nbconvert_exporter": "python",
   "pygments_lexer": "ipython2",
   "version": "2.7.14"
  }
 },
 "nbformat": 4,
 "nbformat_minor": 2
}
